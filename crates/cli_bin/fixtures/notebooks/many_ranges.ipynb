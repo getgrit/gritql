{
  "cells": [
    {
      "cell_type": "code",
      "execution_count": null,
      "id": "a0377478",
      "metadata": {},
      "outputs": [],
      "source": [
        "%pip install --upgrade --quiet  langchain langchain_experimental langchain-openai\n",
        "# Set env var OPENAI_API_KEY or load from a .env file:\n",
        "# import dotenv\n",
        "# dotenv.load_dotenv()\n",
        "\n",
        "from langchain.prompts import FewShotPromptTemplate, PromptTemplate\n",
        "from langchain_core.pydantic_v1 import BaseModel\n",
        "from langchain_experimental.tabular_synthetic_data.openai import (\n",
        "    OPENAI_TEMPLATE,\n",
        "    create_openai_data_generator,\n",
        ")\n",
        "from langchain_experimental.tabular_synthetic_data.prompts import (\n",
        "    SYNTHETIC_FEW_SHOT_PREFIX,\n",
        "    SYNTHETIC_FEW_SHOT_SUFFIX,\n",
        ")\n",
        "from langchain_openai import ChatOpenAI"
      ]
    },
    {
      "cell_type": "code",
      "execution_count": null,
      "id": "291bad6e",
      "metadata": {},
      "outputs": [],
      "source": [
        "class MedicalBilling(BaseModel):\n",
        "    patient_id: int\n",
        "    patient_name: str\n",
        "    diagnosis_code: str\n",
        "    procedure_code: str\n",
        "    total_charge: float\n",
        "    insurance_claim_amount: float"
      ]
    }
  ],
  "metadata": {
    "kernelspec": {
      "display_name": "Python 3 (ipykernel)",
      "language": "python",
      "name": "python3"
    },
    "language_info": {
      "codemirror_mode": {
        "name": "ipython",
        "version": 3
      },
      "file_extension": ".py",
      "mimetype": "text/x-python",
      "name": "python",
      "nbconvert_exporter": "python",
      "pygments_lexer": "ipython3",
      "version": "3.10.1"
    }
  },
  "nbformat": 4,
  "nbformat_minor": 5
}
