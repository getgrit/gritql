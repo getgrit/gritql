{
  "cells": [
    {
      "cell_type": "code",
      "execution_count": null,
      "id": "5e3cb542-933d-4bf3-a82b-d9d6395a7832",
      "metadata": {
        "tags": []
      },
      "outputs": [],
      "source": [
        "print(4)\n",
        "print(\"3\")\n",
        "print(5)"
      ]
    },
    {
      "cell_type": "markdown",
      "id": "33c5d4c8",
      "metadata": {},
      "source": [
        "# This is good\n",
        "It is just markdown..."
      ]
    },
    {
      "cell_type": "code",
      "execution_count": null,
      "id": "51a446c5",
      "metadata": {},
      "outputs": [],
      "source": [
        "print(\"20\")\n",
        "def hello():\n",
        "  print(\"I LOVE IT\")"
      ]
    }
  ],
  "metadata": {
    "kernelspec": {
      "display_name": "conda210",
      "language": "python",
      "name": "conda210"
    },
    "language_info": {
      "codemirror_mode": {
        "name": "ipython",
        "version": 3
      },
      "file_extension": ".py",
      "mimetype": "text/x-python",
      "name": "python",
      "nbconvert_exporter": "python",
      "pygments_lexer": "ipython3",
      "version": "3.9.16"
    }
  },
  "nbformat": 4,
  "nbformat_minor": 5
}
