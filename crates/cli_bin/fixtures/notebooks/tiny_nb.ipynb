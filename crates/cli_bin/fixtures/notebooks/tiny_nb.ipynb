{
  "nbformat": 4,
 "nbformat_minor": 5,
 "cells": [
  {
   "attachments": {},
   "cell_type": "code",
   "id": "5e3cb542-933d-4bf3-a82b-d9d6395a7832",
   "metadata": {
    "tags": []
   },
   "source": [
    "print(3)",
    "\n\n\n",
    "print(4)",
   ]
  }
 ],
 "metadata": {
  "kernelspec": {
   "display_name": "conda210",
   "language": "python",
   "name": "conda210"
  },
  "language_info": {
   "codemirror_mode": {
    "name": "ipython",
    "version": 3
   },
   "file_extension": ".py",
   "mimetype": "text/x-python",
   "name": "python",
   "nbconvert_exporter": "python",
   "pygments_lexer": "ipython3",
   "version": "3.9.16"
  }
 },
}
