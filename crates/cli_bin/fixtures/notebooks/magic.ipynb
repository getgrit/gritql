{
  "cells": [
    {
      "cell_type": "markdown",
      "id": "286ae99a",
      "metadata": {},
      "source": [
        "# Credit\n",
        "These test cases were borrowed from [ruff](https://github.com/astral-sh/ruff/tree/33fd50027cb24e407746da339bdf2461df194d96/crates/ruff_notebook/resources/test/fixtures/jupyter/cell)."
      ]
    },
    {
      "cell_type": "code",
      "execution_count": null,
      "id": "1",
      "metadata": {},
      "outputs": [],
      "source": [
        "pip install requests"
      ]
    },
    {
      "cell_type": "code",
      "execution_count": null,
      "id": "1",
      "metadata": {},
      "outputs": [],
      "source": [
        "x = 1\n",
        "pip install requests"
      ]
    },
    {
      "cell_type": "code",
      "execution_count": null,
      "id": "1",
      "metadata": {},
      "outputs": [],
      "source": [
        "colors = 6\n",
        "print(colors)"
      ]
    },
    {
      "cell_type": "code",
      "execution_count": null,
      "id": "1",
      "metadata": {},
      "outputs": [],
      "source": [
        "pip install requests\n",
        "x = 1"
      ]
    },
    {
      "cell_type": "code",
      "execution_count": null,
      "id": "1",
      "metadata": {},
      "outputs": [],
      "source": [
        "pip install requests\n",
        "pip install requests"
      ]
    },
    {
      "cell_type": "code",
      "execution_count": null,
      "id": "1",
      "metadata": {},
      "outputs": [],
      "source": [
        "%%script bash\n",
        "for i in 1 2 3; do\n",
        "  echo $i\n",
        "done"
      ]
    },
    {
      "cell_type": "code",
      "execution_count": null,
      "id": "1",
      "metadata": {},
      "outputs": [],
      "source": [
        "def foo():\n",
        "    pass\n",
        "\n",
        "%timeit foo()"
      ]
    },
    {
      "cell_type": "markdown",
      "id": "1",
      "metadata": {},
      "source": [
        "This is a markdown cell\n",
        "Some more content"
      ]
    },
    {
      "cell_type": "code",
      "execution_count": null,
      "id": "1",
      "metadata": {},
      "outputs": [],
      "source": [
        "def foo():\n",
        "    pass"
      ]
    },
    {
      "cell_type": "code",
      "execution_count": null,
      "id": "1",
      "metadata": {},
      "outputs": [],
      "source": [
        "%timeit print('hello world')"
      ]
    },
    {
      "cell_type": "code",
      "execution_count": null,
      "id": "1",
      "metadata": {},
      "outputs": [],
      "source": [
        "def sample_func(xx):\n",
        "    \"\"\"\n",
        "    转置 (transpose)\n",
        "    \"\"\"\n",
        "    return xx.T\n",
        "# https://github.com/astral-sh/ruff-vscode/issues/362\n",
        "DEFAULT_SYSTEM_PROMPT = (\n",
        "    \"Ты — Сайга, русскоязычный автоматический ассистент. \"\n",
        "    \"Ты разговариваешь с людьми и помогаешь им.\"\n",
        ")"
      ]
    },
    {
      "cell_type": "code",
      "execution_count": null,
      "id": "1",
      "metadata": {},
      "outputs": [],
      "source": [
        "%%timeit\n",
        "print('hello world')"
      ]
    }
  ],
  "metadata": {
    "kernelspec": {
      "display_name": "conda210",
      "language": "python",
      "name": "conda210"
    },
    "language_info": {
      "codemirror_mode": {
        "name": "ipython",
        "version": 3
      },
      "file_extension": ".py",
      "mimetype": "text/x-python",
      "name": "python",
      "nbconvert_exporter": "python",
      "pygments_lexer": "ipython3",
      "version": "3.9.16"
    }
  },
  "nbformat": 4,
  "nbformat_minor": 5
}
