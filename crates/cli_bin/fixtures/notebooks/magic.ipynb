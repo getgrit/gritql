{
  "cells": [
    {
      "cell_type": "markdown",
      "id": "286ae99a",
      "metadata": {},
      "source": [
        "# Credit\n",
        "These test cases were borrowed from [ruff](https://github.com/astral-sh/ruff/tree/33fd50027cb24e407746da339bdf2461df194d96/crates/ruff_notebook/resources/test/fixtures/jupyter/cell)."
      ]
    },
    {
      "cell_type": "markdown",
      "id": "08971584",
      "metadata": {},
      "source": [
        "# Skip pip magic:"
      ]
    },
    {
      "cell_type": "code",
      "execution_count": null,
      "id": "1",
      "metadata": {},
      "outputs": [],
      "source": [
        "pip install nevershow"
      ]
    },
    {
      "cell_type": "markdown",
      "id": "62e21bbc",
      "metadata": {},
      "source": [
        "# This should be parseable, if we ignore the magic line:\n",
        "\n",
        "But for now we just skip it."
      ]
    },
    {
      "cell_type": "code",
      "execution_count": null,
      "id": "1",
      "metadata": {},
      "outputs": [],
      "source": [
        "x = 1\n",
        "pip install maybeshow"
      ]
    },
    {
      "cell_type": "markdown",
      "id": "00db135e",
      "metadata": {},
      "source": [
        "# This is also valid code:"
      ]
    },
    {
      "cell_type": "code",
      "execution_count": null,
      "id": "1",
      "metadata": {},
      "outputs": [],
      "source": [
        "colors = 6\n",
        "print(colors)"
      ]
    },
    {
      "cell_type": "markdown",
      "id": "66fd8b58",
      "metadata": {},
      "source": [
        "# Magic before code is bad"
      ]
    },
    {
      "cell_type": "code",
      "execution_count": null,
      "id": "1",
      "metadata": {},
      "outputs": [],
      "source": [
        "pip install nevershow\n",
        "x = 1"
      ]
    },
    {
      "cell_type": "markdown",
      "id": "ca3179fa",
      "metadata": {},
      "source": [
        "# Two magics is worse than one"
      ]
    },
    {
      "cell_type": "code",
      "execution_count": null,
      "id": "1",
      "metadata": {},
      "outputs": [],
      "source": [
        "pip install nevershow\n",
        "pip install nevershow"
      ]
    },
    {
      "cell_type": "markdown",
      "id": "d024bcf0",
      "metadata": {},
      "source": [
        "## Cell magic is impossible to handle"
      ]
    },
    {
      "cell_type": "code",
      "execution_count": null,
      "id": "1",
      "metadata": {},
      "outputs": [],
      "source": [
        "%%script bash\n",
        "for i in 1 2 3; do\n",
        "  echo \"nevershow\"\n",
        "  echo $i\n",
        "done"
      ]
    },
    {
      "cell_type": "markdown",
      "id": "86bb1d53",
      "metadata": {},
      "source": [
        "# This could be visible, since it is code then magic\n",
        "... but for now we exclude it"
      ]
    },
    {
      "cell_type": "code",
      "execution_count": null,
      "id": "1",
      "metadata": {},
      "outputs": [],
      "source": [
        "def maybeshow():\n",
        "    pass\n",
        "\n",
        "%timeit foo()"
      ]
    },
    {
      "cell_type": "markdown",
      "id": "1",
      "metadata": {},
      "source": [
        "This is a markdown cell\n",
        "Some more content"
      ]
    },
    {
      "cell_type": "markdown",
      "id": "d08e82f7",
      "metadata": {},
      "source": [
        "# This is also fine:"
      ]
    },
    {
      "cell_type": "code",
      "execution_count": null,
      "id": "1",
      "metadata": {},
      "outputs": [],
      "source": [
        "def foo():\n",
        "    pass"
      ]
    },
    {
      "cell_type": "markdown",
      "id": "8bca5f45",
      "metadata": {},
      "source": [
        "# Only magic, we can include it safely"
      ]
    },
    {
      "cell_type": "code",
      "execution_count": null,
      "id": "1",
      "metadata": {},
      "outputs": [],
      "source": [
        "%timeit other('hello maybeshow')"
      ]
    },
    {
      "cell_type": "markdown",
      "id": "37b260fe",
      "metadata": {},
      "source": [
        "# Unicode should not be an issue"
      ]
    },
    {
      "cell_type": "code",
      "execution_count": null,
      "id": "1",
      "metadata": {},
      "outputs": [],
      "source": [
        "def sample_func(xx):\n",
        "    \"\"\"\n",
        "    转置 (transpose)\n",
        "    \"\"\"\n",
        "    return xx.T\n",
        "# https://github.com/astral-sh/ruff-vscode/issues/362\n",
        "DEFAULT_SYSTEM_PROMPT = (\n",
        "    \"Ты — Сайга, русскоязычный автоматический ассистент. \"\n",
        "    \"Ты разговариваешь с людьми и помогаешь им.\"\n",
        ")"
      ]
    },
    {
      "cell_type": "markdown",
      "id": "62251f11",
      "metadata": {},
      "source": [
        "Starting with magic is hard"
      ]
    },
    {
      "cell_type": "code",
      "execution_count": null,
      "id": "1",
      "metadata": {},
      "outputs": [],
      "source": [
        "%%timeit\n",
        "print('hello maybeshow')"
      ]
    }
  ],
  "metadata": {
    "kernelspec": {
      "display_name": "conda210",
      "language": "python",
      "name": "conda210"
    },
    "language_info": {
      "codemirror_mode": {
        "name": "ipython",
        "version": 3
      },
      "file_extension": ".py",
      "mimetype": "text/x-python",
      "name": "python",
      "nbconvert_exporter": "python",
      "pygments_lexer": "ipython3",
      "version": "3.9.16"
    }
  },
  "nbformat": 4,
  "nbformat_minor": 5
}
