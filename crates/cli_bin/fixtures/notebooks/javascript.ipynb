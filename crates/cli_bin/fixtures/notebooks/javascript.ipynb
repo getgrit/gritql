{
  "cells": [
    {
      "cell_type": "code",
      "execution_count": 1,
      "id": "e5992349-c181-4639-a467-e8d206be2fe9",
      "metadata": {},
      "outputs": [
        {
          "data": {
            "text/markdown": ["No way! This _is_ **awesome**"]
          },
          "metadata": {},
          "output_type": "display_data"
        }
      ],
      "source": [
        "await Deno.jupyter.display(\n",
        "  {\n",
        "    \"text/markdown\": \"No way! This _is_ **awesome**\",\n",
        "  },\n",
        "  { raw: true }\n",
        ");"
      ]
    },
    {
      "cell_type": "code",
      "execution_count": 2,
      "id": "f042c4e9-6071-4a12-a938-a6986adc76d6",
      "metadata": {},
      "outputs": [],
      "source": ["const { display } = Deno.jupyter"]
    },
    {
      "cell_type": "code",
      "execution_count": 3,
      "id": "ae9e1428-158f-490f-87a9-50e5213e9b30",
      "metadata": {},
      "outputs": [
        {
          "data": {
            "application/json": {
              "a": 2,
              "b": 3,
              "c": {
                "ok": true
              }
            },
            "text/plain": ["ok"]
          },
          "metadata": {},
          "output_type": "display_data"
        }
      ],
      "source": [
        "await display(\n",
        "    {\n",
        "        'application/json': {'a': 2, 'b': 3, 'c': {'ok': true } },\n",
        "        'text/plain': 'ok'\n",
        "    },\n",
        "    { raw: true }\n",
        ")"
      ]
    },
    {
      "cell_type": "markdown",
      "id": "076f14f2-3a92-450c-9133-193ed1d345d9",
      "metadata": {},
      "source": [
        "Note: in order to run the following example, you must set unstable for your kernel runtime."
      ]
    },
    {
      "cell_type": "code",
      "execution_count": 4,
      "id": "1728022a-2d37-44ba-9db8-8b4c3d13862a",
      "metadata": {},
      "outputs": [
        {
          "data": {
            "image/png": "[encoded data removed]"
          },
          "execution_count": 4,
          "metadata": {},
          "output_type": "execute_result"
        }
      ],
      "source": [
        "import { createCanvas } from \"jsr:@gfx/canvas@0.5.6\";\n",
        "\n",
        "const canvas = createCanvas(200, 200);\n",
        "const ctx = canvas.getContext(\"2d\");\n",
        "\n",
        "ctx.fillStyle = \"red\";\n",
        "ctx.fillRect(10, 10, 200 - 20, 200 - 20);\n",
        "\n",
        "canvas"
      ]
    },
    {
      "cell_type": "code",
      "execution_count": 5,
      "id": "af8f2fec-3fe2-40a4-abac-6dbfb54d9b87",
      "metadata": {},
      "outputs": [
        {
          "data": {
            "image/png": "[encoded data removed]"
          },
          "metadata": {},
          "output_type": "display_data"
        }
      ],
      "source": [
        "import { createCanvas } from \"jsr:@gfx/canvas@0.5.6\";\n",
        "\n",
        "const canvasSmiley = createCanvas(200, 200);\n",
        "const ctxSmiley = canvasSmiley.getContext(\"2d\");\n",
        "\n",
        "// Draw face circle\n",
        "ctxSmiley.fillStyle = \"yellow\";\n",
        "ctxSmiley.beginPath();\n",
        "ctxSmiley.arc(100, 100, 50, 0, Math.PI * 2);\n",
        "ctxSmiley.fill();\n",
        "\n",
        "// Draw eyes\n",
        "ctxSmiley.fillStyle = \"black\";\n",
        "ctxSmiley.beginPath();\n",
        "ctxSmiley.arc(80, 80, 5, 0, Math.PI * 2);\n",
        "ctxSmiley.arc(120, 80, 5, 0, Math.PI * 2);\n",
        "ctxSmiley.fill();\n",
        "\n",
        "// Draw mouth\n",
        "ctxSmiley.beginPath();\n",
        "ctxSmiley.arc(100, 100, 30, 0, Math.PI);\n",
        "ctxSmiley.stroke();\n",
        "\n",
        "await display(canvasSmiley);\n"
      ]
    },
    {
      "cell_type": "code",
      "execution_count": 6,
      "id": "9b2a874a-f882-484b-a223-a41b795f1dc0",
      "metadata": {},
      "outputs": [
        {
          "data": {
            "image/png": "[encoded data removed]"
          },
          "metadata": {},
          "output_type": "display_data"
        }
      ],
      "source": [
        "const canvasPong = createCanvas(200, 200);\n",
        "const ctxPong = canvasPong.getContext(\"2d\");\n",
        "\n",
        "// Draw paddles\n",
        "ctxPong.fillStyle = \"blue\";\n",
        "ctxPong.fillRect(10, 50, 10, 50);\n",
        "ctxPong.fillRect(180, 100, 10, 50);\n",
        "\n",
        "// Draw ball\n",
        "ctxPong.beginPath();\n",
        "ctxPong.arc(100, 100, 5, 0, Math.PI * 2);\n",
        "ctxPong.fill();\n",
        "\n",
        "await display(canvasPong);\n"
      ]
    },
    {
      "cell_type": "code",
      "execution_count": 7,
      "id": "209c37c0-4907-4220-b552-6f4bbe10e5db",
      "metadata": {},
      "outputs": [
        {
          "data": {
            "image/png": "[encoded data removed]"
          },
          "metadata": {},
          "output_type": "display_data"
        }
      ],
      "source": [
        "import { createCanvas } from \"https://deno.land/x/canvas/mod.ts\";\n",
        "\n",
        "const canvasGraph = createCanvas(200, 200);\n",
        "const ctxGraph = canvasGraph.getContext(\"2d\");\n",
        "\n",
        "// Draw axes\n",
        "ctxGraph.strokeStyle = \"black\";\n",
        "ctxGraph.beginPath();\n",
        "ctxGraph.moveTo(10, 10);\n",
        "ctxGraph.lineTo(10, 190);\n",
        "ctxGraph.lineTo(190, 190);\n",
        "ctxGraph.stroke();\n",
        "\n",
        "// Draw line graph\n",
        "ctxGraph.strokeStyle = \"blue\";\n",
        "ctxGraph.beginPath();\n",
        "ctxGraph.moveTo(10, 190);\n",
        "ctxGraph.lineTo(50, 150);\n",
        "ctxGraph.lineTo(100, 100);\n",
        "ctxGraph.lineTo(150, 50);\n",
        "ctxGraph.lineTo(190, 10);\n",
        "ctxGraph.stroke();\n",
        "\n",
        "await display(canvasGraph);"
      ]
    },
    {
      "cell_type": "markdown",
      "id": "8f9b9758-21df-480c-93be-bb57d7e948b3",
      "metadata": {},
      "source": ["## GeoJSON"]
    },
    {
      "cell_type": "code",
      "execution_count": 8,
      "id": "5288ebbc-d1a4-4df8-b719-d8165d21e044",
      "metadata": {},
      "outputs": [
        {
          "data": {
            "application/geo+json": {
              "features": [
                {
                  "geometry": {
                    "coordinates": [-122.02568110000087, 36.97291350961986],
                    "type": "Point"
                  },
                  "properties": {},
                  "type": "Feature"
                },
                {
                  "geometry": {
                    "coordinates": [-122.02475203169882, 36.97469131200653],
                    "type": "Point"
                  },
                  "properties": {},
                  "type": "Feature"
                },
                {
                  "geometry": {
                    "coordinates": [-122.04531981349203, 36.96158087785122],
                    "type": "Point"
                  },
                  "properties": {},
                  "type": "Feature"
                },
                {
                  "geometry": {
                    "coordinates": [-122.04639846048826, 36.959057309781215],
                    "type": "Point"
                  },
                  "properties": {},
                  "type": "Feature"
                }
              ],
              "type": "FeatureCollection"
            }
          },
          "metadata": {},
          "output_type": "display_data"
        }
      ],
      "source": [
        "var geo = {\n",
        "  \"type\": \"FeatureCollection\",\n",
        "  \"features\": [\n",
        "    {\n",
        "      \"type\": \"Feature\",\n",
        "      \"properties\": {},\n",
        "      \"geometry\": {\n",
        "        \"coordinates\": [\n",
        "          -122.02568110000087,\n",
        "          36.97291350961986\n",
        "        ],\n",
        "        \"type\": \"Point\"\n",
        "      }\n",
        "    },\n",
        "    {\n",
        "      \"type\": \"Feature\",\n",
        "      \"properties\": {},\n",
        "      \"geometry\": {\n",
        "        \"coordinates\": [\n",
        "          -122.02475203169882,\n",
        "          36.97469131200653\n",
        "        ],\n",
        "        \"type\": \"Point\"\n",
        "      }\n",
        "    },\n",
        "    {\n",
        "      \"type\": \"Feature\",\n",
        "      \"properties\": {},\n",
        "      \"geometry\": {\n",
        "        \"coordinates\": [\n",
        "          -122.04531981349203,\n",
        "          36.96158087785122\n",
        "        ],\n",
        "        \"type\": \"Point\"\n",
        "      }\n",
        "    },\n",
        "    {\n",
        "      \"type\": \"Feature\",\n",
        "      \"properties\": {},\n",
        "      \"geometry\": {\n",
        "        \"coordinates\": [\n",
        "          -122.04639846048826,\n",
        "          36.959057309781215\n",
        "        ],\n",
        "        \"type\": \"Point\"\n",
        "      }\n",
        "    }\n",
        "  ]\n",
        "}\n",
        "\n",
        "await Deno.jupyter.display({\n",
        "    \"application/geo+json\": geo\n",
        "}, {raw: true})"
      ]
    }
  ],
  "metadata": {
    "kernelspec": {
      "display_name": "Deno",
      "language": "typescript",
      "name": "deno"
    },
    "language_info": {
      "codemirror_mode": "typescript",
      "file_extension": ".ts",
      "mimetype": "text/x.typescript",
      "name": "typescript",
      "nbconvert_exporter": "script",
      "pygments_lexer": "typescript",
      "version": "5.4.5"
    },
    "widgets": {
      "application/vnd.jupyter.widget-state+json": {
        "state": {},
        "version_major": 2,
        "version_minor": 0
      }
    }
  },
  "nbformat": 4,
  "nbformat_minor": 5
}
