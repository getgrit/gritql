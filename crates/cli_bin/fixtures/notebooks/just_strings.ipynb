{
  "cells": [
    {
      "cell_type": "code",
      "execution_count": null,
      "id": "5e3cb542-933d-4bf3-a82b-d9d6395a7832",
      "metadata": {
        "tags": []
      },
      "outputs": [],
      "source": "import configparser\n\nconfig = configparser.ConfigParser()\nconfig.read(\"./secrets.ini\")"
    },
    {
      "cell_type": "code",
      "execution_count": null,
      "id": "5e3cb542-933d-4bf3-a82b-d9d6395a7832",
      "metadata": {
        "tags": []
      },
      "outputs": [],
      "source": "print(32)"
    }
  ],
  "metadata": {
    "kernelspec": {
      "display_name": "conda210",
      "language": "python",
      "name": "conda210"
    },
    "language_info": {
      "codemirror_mode": {
        "name": "ipython",
        "version": 3
      },
      "file_extension": ".py",
      "mimetype": "text/x-python",
      "name": "python",
      "nbconvert_exporter": "python",
      "pygments_lexer": "ipython3",
      "version": "3.9.16"
    }
  },
  "nbformat": 4,
  "nbformat_minor": 5
}
